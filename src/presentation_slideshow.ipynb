{
 "cells": [
  {
   "cell_type": "markdown",
   "metadata": {
    "slideshow": {
     "slide_type": "slide"
    }
   },
   "source": [
    "<center>\n",
    "    <header>\n",
    "        <h1>Identifying Redditors Who Are Likely to Use Bigoted Language\n",
    "        </h1>\n",
    "    </header><br><br>\n",
    "    <b>Truly, that is a f_____ of epic proportions.</b><br>\n",
    "    <i>/u/CouchPotatoFamine</i>\n",
    "<br><br><br><br>\n",
    "</center>\n"
   ]
  },
  {
   "cell_type": "markdown",
   "metadata": {
    "slideshow": {
     "slide_type": "slide"
    }
   },
   "source": [
    "<center>\n",
    "    <h1>Why should we care?\n",
    "    </h1>\n",
    "<img src='as_a_black_person.jpg' width='200' height='200'>\n",
    "    <sub>Image found on /r/AsABlackMan</sub>\n",
    "</center>\n"
   ]
  },
  {
   "cell_type": "markdown",
   "metadata": {
    "slideshow": {
     "slide_type": "slide"
    }
   },
   "source": [
    "<header>\n",
    "    <center>\n",
    "        <h1>Where to Find the Data?\n",
    "        </h1>\n",
    "    </center>\n",
    "    <h3>Luckily, there are places like r/AgainstHateSubreddits, where I was able to find:</h3><br>\n",
    "    <b>\n",
    "        <ul>\n",
    "            <li>r/AntiLGBTQIA</li>\n",
    "            <li>r/HardUnpopularOpinion</li>\n",
    "            <li>r/DiversityNews</li>\n",
    "        </ul>\n",
    "    </b>\n",
    "</header>\n"
   ]
  },
  {
   "cell_type": "markdown",
   "metadata": {
    "slideshow": {
     "slide_type": "slide"
    }
   },
   "source": [
    "<center>\n",
    "<header>\n",
    "    <h1>Limitations of Reddit API</h1>    </header>\n",
    "</center>\n",
    "    <ul>\n",
    "    <b><li>Even without limit, it is only possible to get 1000 comments from a Redditor instance</li><br>\n",
    "        <li>There are, however, 4 different orderings of comments that one can access: </li>\n",
    "        <ol>\n",
    "            <li>controversial</li>\n",
    "            <li>hot</li>\n",
    "            <li>new</li>\n",
    "            <li>top</li>\n",
    "            </ol></b>\n",
    "    </ul>\n"
   ]
  },
  {
   "cell_type": "markdown",
   "metadata": {
    "slideshow": {
     "slide_type": "slide"
    }
   },
   "source": [
    "<center><h1>Defining classes / features\n",
    "    </h1></center>\n",
    "<ul>\n",
    "    <li>Get set of all usernames that used slurs</li>\n",
    "    <li>Target column based on username</li>\n",
    "</ul>\n"
   ]
  },
  {
   "cell_type": "markdown",
   "metadata": {
    "slideshow": {
     "slide_type": "slide"
    }
   },
   "source": [
    "<center><h1>Feature Engineering</h1>\n",
    "<br>\n",
    "    <h3>Auto-encoding\n",
    "    </h3>\n",
    "</center>"
   ]
  },
  {
   "cell_type": "markdown",
   "metadata": {
    "slideshow": {
     "slide_type": "slide"
    }
   },
   "source": [
    "<center><h1>By next Thursday</h1></center>\n",
    "<ul>\n",
    "    <li>Feature encoding my OneHotEncoded n-grams</li>\n",
    "    <li>Connect s3 bucket to Spark cluster</li>\n",
    "    <li>Finish building bot, make subreddit for my bot to post stuff</li>\n",
    "</ul>"
   ]
  },
  {
   "cell_type": "markdown",
   "metadata": {
    "slideshow": {
     "slide_type": "slide"
    }
   },
   "source": [
    "<center><h1>End</h1></center>\n",
    "\n",
    "<center><sub>Special thanks to Evgenij Vasilev, whose Master's Thesis<br> <i>Inferring gender of Reddit Users</i><br>provided some much-needed guidance for the design of this project</sub></center>"
   ]
  },
  {
   "cell_type": "markdown",
   "metadata": {},
   "source": [
    "<img src='aws_error.png'>"
   ]
  },
  {
   "cell_type": "markdown",
   "metadata": {},
   "source": [
    "<table>\n",
    "<tr>\n",
    "<td>\n",
    "   <pre lang=\"csharp\">\n",
    "    def slurred(comment):\n",
    "    \n",
    "   </pre>\n",
    "</td>\n",
    "<td>\n",
    "  <pre lang=\"nemerle\">\n",
    "  def x : int = 3;\n",
    "  def y : string = \"foo\";\n",
    "  def obj : Object = getObject();\n",
    "  </pre>\n",
    "</td>\n",
    "<td>\n",
    "  Variables defined with <code>def</code> cannot be changed once defined. This is similar to <code>readonly</code> or <code>const</code> in C# or <code>final</code> in Java. Most variables in Nemerle aren't explicitly typed like this.\n",
    "</td>\n",
    "</tr>\n",
    "share"
   ]
  },
  {
   "cell_type": "code",
   "execution_count": 125,
   "metadata": {},
   "outputs": [],
   "source": [
    "def religion(text):\n",
    "    if type(text) == str:\n",
    "        low = text.lower()\n",
    "        for slur in religious:\n",
    "            if slur in low:\n",
    "                return 1\n",
    "    return 0\n",
    "def race(text):\n",
    "    if type(text) == str:\n",
    "        low = text.lower()\n",
    "        for slur in racial:\n",
    "            if slur in low:\n",
    "                return 1\n",
    "    return 0\n",
    "def queer(text):\n",
    "    if type(text) == str:\n",
    "        low = text.lower()\n",
    "        for slur in lgbt:\n",
    "            if slur in low:\n",
    "                return 1\n",
    "    return 0"
   ]
  },
  {
   "cell_type": "code",
   "execution_count": 59,
   "metadata": {},
   "outputs": [],
   "source": [
    "def first_slur_used(string):\n",
    "    if type(string) == str:\n",
    "        low = string.lower()\n",
    "        for slur in slurs:\n",
    "            if slur in low:\n",
    "                return slur\n",
    "    return 'None'"
   ]
  },
  {
   "cell_type": "code",
   "execution_count": 60,
   "metadata": {},
   "outputs": [],
   "source": [
    "def all_slurs_used(string):\n",
    "    used_slurs = []\n",
    "    if type(string) == str:\n",
    "        low = string.lower()\n",
    "        for slur in slurs:\n",
    "            if slur in low:\n",
    "                used_slurs.append(slur)\n",
    "    if len(used_slurs) > 1:\n",
    "        return ' | '.join(used_slurs)\n",
    "    elif len(used_slurs) == 1:\n",
    "        return used_slurs[0]\n",
    "    else:\n",
    "        return 'None'"
   ]
  },
  {
   "cell_type": "code",
   "execution_count": 121,
   "metadata": {},
   "outputs": [],
   "source": [
    "religious = ['christ-killer','christ killer','goy','heeb','hebe',\n",
    "             'kike','jewboy','kyke','raghead','rag head','shylock',\n",
    "             'towel head','camel jockey','toucan sam'\n",
    "            ]\n",
    "racial = ['gook','ching chong','chink','half-breed', 'half breed',\n",
    "          'jigaboo','jiggabo', 'jig', 'jigga', 'jigger',\n",
    "          'jungle buny','niglet','nig-nog', 'nig nog', 'nignog',\n",
    "          'nigger','nigga', 'nigress', 'niggah', 'nigga','niqq',\n",
    "          'nigg','porch monkey','raghead', 'rag head', 'sambo',\n",
    "          'slant-eye', 'slant eye','spic','spick','spik',\n",
    "          'tar baby', 'tar-baby','tyrone','towel head',\n",
    "          'uncle tom','wetback','beaner','camel jockey',\n",
    "          'coon-ass', 'coon','tnb','yard ape','welfare queen',\n",
    "          'unemployus','three-fifth','three fifths', \n",
    "          'three fifth', 'three-fifths','point six', \n",
    "          'point-six', '36-30', 'thirty-six-thirty',\n",
    "          'thirty-six thirty','thirtysix-thirty',\n",
    "          'thirtysix thirty','satchmo','sambo','race traitor',\n",
    "          'race-traitor','mammy','pickaninny','sheboon',\n",
    "          'furfag','chimpout','chimp out'\n",
    "]\n",
    "\n",
    "lgbt = ['fag','cocksucker','queer','dyke']\n"
   ]
  },
  {
   "cell_type": "code",
   "execution_count": 122,
   "metadata": {},
   "outputs": [],
   "source": [
    "slurs = []\n",
    "slurs.extend(racial)\n",
    "slurs.extend(lgbt)\n",
    "slurs.extend(religious)"
   ]
  },
  {
   "cell_type": "code",
   "execution_count": 159,
   "metadata": {},
   "outputs": [
    {
     "data": {
      "image/png": "[encoded data removed]",
      "text/plain": [
       "<Figure size 720x720 with 1 Axes>"
      ]
     },
     "metadata": {},
     "output_type": "display_data"
    }
   ],
   "source": [
    "keys = ['lgbt','religious','race']\n",
    "\n",
    "import matplotlib.pyplot as plt\n",
    "%matplotlib inline\n",
    "\n",
    "fig, ax = plt.subplots(figsize=(10,10))\n",
    "ax.pie([final_user_data[key].sum() for key in keys],labels=['lgbt','religion','race'],colors=['green','blue','purple'])\n",
    "ax.set_title('Relative Type of Slurs\\nFound in Redditor Scraping')\n",
    "plt.savefig('slur_fractions.png')"
   ]
  },
  {
   "cell_type": "code",
   "execution_count": 170,
   "metadata": {},
   "outputs": [
    {
     "data": {
      "image/png": "[encoded data removed]",
      "text/plain": [
       "<Figure size 432x288 with 1 Axes>"
      ]
     },
     "metadata": {},
     "output_type": "display_data"
    }
   ],
   "source": [
    "pie = [fresh['slurred'].sum(),fresh.shape[0]-fresh['slurred'].sum()]\n",
    "plt.pie(pie,labels=['comments with slurs','comments without slurs'],colors=['red','black'])\n",
    "plt.title('Fraction of All Scraped Comments That\\nContain Slurs (any type)')\n",
    "plt.savefig('all_slurs.png')"
   ]
  }
 ],
 "metadata": {
  "celltoolbar": "Slideshow",
  "kernelspec": {
   "display_name": "Python 3",
   "language": "python",
   "name": "python3"
  },
  "language_info": {
   "codemirror_mode": {
    "name": "ipython",
    "version": 3
   },
   "file_extension": ".py",
   "mimetype": "text/x-python",
   "name": "python",
   "nbconvert_exporter": "python",
   "pygments_lexer": "ipython3",
   "version": "3.7.5"
  },
  "varInspector": {
   "cols": {
    "lenName": 16,
    "lenType": 16,
    "lenVar": 40
   },
   "kernels_config": {
    "python": {
     "delete_cmd_postfix": "",
     "delete_cmd_prefix": "del ",
     "library": "var_list.py",
     "varRefreshCmd": "print(var_dic_list())"
    },
    "r": {
     "delete_cmd_postfix": ") ",
     "delete_cmd_prefix": "rm(",
     "library": "var_list.r",
     "varRefreshCmd": "cat(var_dic_list()) "
    }
   },
   "types_to_exclude": [
    "module",
    "function",
    "builtin_function_or_method",
    "instance",
    "_Feature"
   ],
   "window_display": false
  }
 },
 "nbformat": 4,
 "nbformat_minor": 2
}
