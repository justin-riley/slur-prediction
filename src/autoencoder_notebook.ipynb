{
 "cells": [
  {
   "cell_type": "code",
   "execution_count": 7,
   "metadata": {},
   "outputs": [],
   "source": [
    "from pandas import read_csv"
   ]
  },
  {
   "cell_type": "code",
   "execution_count": 69,
   "metadata": {},
   "outputs": [
    {
     "data": {
      "text/plain": [
       "'/home/justin/.local/share/xdg/media/documents/textfiles/galvanize/slur-prediction/src'"
      ]
     },
     "execution_count": 69,
     "metadata": {},
     "output_type": "execute_result"
    }
   ],
   "source": [
    "pwd"
   ]
  },
  {
   "cell_type": "code",
   "execution_count": 9,
   "metadata": {},
   "outputs": [],
   "source": [
    "data = read_csv('../data_with_n_grams.csv',nrows=500)"
   ]
  },
  {
   "cell_type": "code",
   "execution_count": 12,
   "metadata": {},
   "outputs": [],
   "source": [
    "from sklearn.preprocessing import OneHotEncoder"
   ]
  },
  {
   "cell_type": "code",
   "execution_count": 13,
   "metadata": {},
   "outputs": [
    {
     "data": {
      "text/plain": [
       "Index(['author', 'body', 'sub_id', 'comment_id', 'subreddit', '2_gram',\n",
       "       '3_gram', '4_gram'],\n",
       "      dtype='object')"
      ]
     },
     "execution_count": 13,
     "metadata": {},
     "output_type": "execute_result"
    }
   ],
   "source": []
  },
  {
   "cell_type": "code",
   "execution_count": 23,
   "metadata": {},
   "outputs": [
    {
     "data": {
      "text/plain": [
       "(500, 491)"
      ]
     },
     "execution_count": 23,
     "metadata": {},
     "output_type": "execute_result"
    }
   ],
   "source": [
    "feature.shape"
   ]
  },
  {
   "cell_type": "code",
   "execution_count": 17,
   "metadata": {},
   "outputs": [
    {
     "data": {
      "text/plain": [
       "OneHotEncoder(categorical_features=None, categories=None, drop=None,\n",
       "              dtype=<class 'numpy.float64'>, handle_unknown='error',\n",
       "              n_values=None, sparse=True)"
      ]
     },
     "execution_count": 17,
     "metadata": {},
     "output_type": "execute_result"
    }
   ],
   "source": [
    "enc.fit(data['2_gram'].values.reshape(-1,1))"
   ]
  },
  {
   "cell_type": "code",
   "execution_count": 18,
   "metadata": {},
   "outputs": [],
   "source": [
    "feature = enc.transform(data['2_gram'].values.reshape(-1,1))\n",
    "\n"
   ]
  },
  {
   "cell_type": "code",
   "execution_count": 62,
   "metadata": {},
   "outputs": [
    {
     "name": "stdout",
     "output_type": "stream",
     "text": [
      "1 2\n",
      "4 16\n",
      "7 128\n",
      "10 1024\n",
      "13 8192\n",
      "16 65536\n",
      "19 524288\n",
      "22 4194304\n",
      "25 33554432\n",
      "28 268435456\n",
      "31 2147483648\n"
     ]
    },
    {
     "data": {
      "text/plain": [
       "2"
      ]
     },
     "execution_count": 62,
     "metadata": {},
     "output_type": "execute_result"
    }
   ],
   "source": [
    "x = 2\n",
    "for _ in range(1,33,3):\n",
    "#     x**=2\n",
    "    print(_,x**_)\n",
    "x"
   ]
  },
  {
   "cell_type": "code",
   "execution_count": 66,
   "metadata": {},
   "outputs": [],
   "source": [
    "ndim = feature.shape[1]\n",
    "from copy import deepcopy\n",
    "def get_neuron_counts(n: int) -> list:\n",
    "    out = []\n",
    "    accumulator = 3\n",
    "    while accumulator < n:\n",
    "        out.append(accumulator)\n",
    "        accumulator **= 2\n",
    "    out = out[::-1]\n",
    "    sub = deepcopy(out[:-1])\n",
    "    out.extend(sub[::-1])\n",
    "    return out"
   ]
  },
  {
   "cell_type": "code",
   "execution_count": 68,
   "metadata": {},
   "outputs": [
    {
     "data": {
      "text/plain": [
       "[81, 9, 3, 9, 81]"
      ]
     },
     "execution_count": 68,
     "metadata": {},
     "output_type": "execute_result"
    }
   ],
   "source": [
    "get_neuron_counts(ndim)"
   ]
  },
  {
   "cell_type": "code",
   "execution_count": 22,
   "metadata": {},
   "outputs": [],
   "source": [
    "from tensorflow.keras.models import Sequential\n",
    "from tensorflow.keras.layers import Dense, Input, Activation"
   ]
  },
  {
   "cell_type": "code",
   "execution_count": 44,
   "metadata": {},
   "outputs": [],
   "source": [
    "def create_autoencoder(neuron_counts)\n",
    "    model = Sequential([\n",
    "        Dense(ndim,input_dim=ndim,activation='relu'),\n",
    "       # Activation('relu'),\n",
    "        Dense(256,activation='relu'),\n",
    "       # Activation('relu'),\n",
    "        Dense(16,activation='relu'),\n",
    "      #  Activation('tanh'),\n",
    "        Dense(4,activation='relu'),\n",
    "      #  Activation('tanh'),\n",
    "        Dense(2,activation='linear',name='bottleneck'),\n",
    "      #  Activation('linear',name='bottleneck'),\n",
    "        Dense(4,activation='relu'),\n",
    "      #  Activation('tanh'),\n",
    "        Dense(16,activation='relu'),\n",
    "      #  Activation('relu'),\n",
    "        Dense(256,activation='relu'),\n",
    "       # Activation('relu'),\n",
    "        Dense(ndim)    \n",
    "    ])"
   ]
  },
  {
   "cell_type": "code",
   "execution_count": 45,
   "metadata": {},
   "outputs": [],
   "source": [
    "model.compile(loss='mean_squared_error',optimizer='adam',verbose=1)"
   ]
  },
  {
   "cell_type": "code",
   "execution_count": 46,
   "metadata": {},
   "outputs": [
    {
     "name": "stdout",
     "output_type": "stream",
     "text": [
      "Train on 500 samples\n",
      "Epoch 1/10\n",
      "500/500 [==============================] - 8s 16ms/sample - loss: 0.0020\n",
      "Epoch 2/10\n",
      "500/500 [==============================] - 0s 444us/sample - loss: 0.0020\n",
      "Epoch 3/10\n",
      "500/500 [==============================] - 0s 380us/sample - loss: 0.0020\n",
      "Epoch 4/10\n",
      "500/500 [==============================] - 0s 397us/sample - loss: 0.0020\n",
      "Epoch 5/10\n",
      "500/500 [==============================] - 0s 346us/sample - loss: 0.0020\n",
      "Epoch 6/10\n",
      "500/500 [==============================] - 0s 348us/sample - loss: 0.0020\n",
      "Epoch 7/10\n",
      "500/500 [==============================] - 0s 269us/sample - loss: 0.0020\n",
      "Epoch 8/10\n",
      "500/500 [==============================] - 0s 321us/sample - loss: 0.0020\n",
      "Epoch 9/10\n",
      "500/500 [==============================] - 0s 336us/sample - loss: 0.0020\n",
      "Epoch 10/10\n",
      "500/500 [==============================] - 0s 296us/sample - loss: 0.0020\n"
     ]
    }
   ],
   "source": [
    "history=model.fit(feature.todense().astype(float),feature.todense().astype(float),batch_size=128,epochs=10)"
   ]
  },
  {
   "cell_type": "code",
   "execution_count": 42,
   "metadata": {},
   "outputs": [
    {
     "data": {
      "text/plain": [
       "[<matplotlib.lines.Line2D at 0x7f687830fe10>]"
      ]
     },
     "execution_count": 42,
     "metadata": {},
     "output_type": "execute_result"
    },
    {
     "data": {
      "image/png": "[encoded data removed]",
      "text/plain": [
       "<Figure size 432x288 with 1 Axes>"
      ]
     },
     "metadata": {
      "needs_background": "light"
     },
     "output_type": "display_data"
    }
   ],
   "source": [
    "import matplotlib.pyplot as plt\n",
    "%matplotlib inline\n",
    "plt.plot(history.history['loss'])"
   ]
  },
  {
   "cell_type": "code",
   "execution_count": 47,
   "metadata": {},
   "outputs": [
    {
     "name": "stdout",
     "output_type": "stream",
     "text": [
      "Model: \"sequential_1\"\n",
      "_________________________________________________________________\n",
      "Layer (type)                 Output Shape              Param #   \n",
      "=================================================================\n",
      "dense_9 (Dense)              (None, 491)               241572    \n",
      "_________________________________________________________________\n",
      "dense_10 (Dense)             (None, 256)               125952    \n",
      "_________________________________________________________________\n",
      "dense_11 (Dense)             (None, 16)                4112      \n",
      "_________________________________________________________________\n",
      "dense_12 (Dense)             (None, 4)                 68        \n",
      "_________________________________________________________________\n",
      "dense_13 (Dense)             (None, 2)                 10        \n",
      "_________________________________________________________________\n",
      "dense_14 (Dense)             (None, 4)                 12        \n",
      "_________________________________________________________________\n",
      "dense_15 (Dense)             (None, 16)                80        \n",
      "_________________________________________________________________\n",
      "dense_16 (Dense)             (None, 256)               4352      \n",
      "_________________________________________________________________\n",
      "dense_17 (Dense)             (None, 491)               126187    \n",
      "=================================================================\n",
      "Total params: 502,345\n",
      "Trainable params: 502,345\n",
      "Non-trainable params: 0\n",
      "_________________________________________________________________\n"
     ]
    }
   ],
   "source": [
    "model.summary()"
   ]
  },
  {
   "cell_type": "code",
   "execution_count": 51,
   "metadata": {},
   "outputs": [
    {
     "ename": "TypeError",
     "evalue": "'Dense' object is not subscriptable",
     "output_type": "error",
     "traceback": [
      "\u001b[0;31m---------------------------------------------------------------------------\u001b[0m",
      "\u001b[0;31mTypeError\u001b[0m                                 Traceback (most recent call last)",
      "\u001b[0;32m<ipython-input-51-f9ac3618167b>\u001b[0m in \u001b[0;36m<module>\u001b[0;34m\u001b[0m\n\u001b[0;32m----> 1\u001b[0;31m \u001b[0mmodel\u001b[0m\u001b[0;34m.\u001b[0m\u001b[0mlayers\u001b[0m\u001b[0;34m[\u001b[0m\u001b[0;36m4\u001b[0m\u001b[0;34m]\u001b[0m\u001b[0;34m[\u001b[0m\u001b[0mfeature\u001b[0m\u001b[0;34m[\u001b[0m\u001b[0;36m0\u001b[0m\u001b[0;34m]\u001b[0m\u001b[0;34m.\u001b[0m\u001b[0mtodense\u001b[0m\u001b[0;34m(\u001b[0m\u001b[0;34m)\u001b[0m\u001b[0;34m.\u001b[0m\u001b[0mastype\u001b[0m\u001b[0;34m(\u001b[0m\u001b[0mfloat\u001b[0m\u001b[0;34m)\u001b[0m\u001b[0;34m]\u001b[0m\u001b[0;34m\u001b[0m\u001b[0;34m\u001b[0m\u001b[0m\n\u001b[0m",
      "\u001b[0;31mTypeError\u001b[0m: 'Dense' object is not subscriptable"
     ]
    }
   ],
   "source": [
    "model.layers[4][feature[0].todense().astype(float)]"
   ]
  },
  {
   "cell_type": "code",
   "execution_count": 52,
   "metadata": {},
   "outputs": [
    {
     "name": "stdout",
     "output_type": "stream",
     "text": [
      "WARNING:tensorflow:Layer dense_9 is casting an input tensor from dtype float64 to the layer's dtype of float32, which is new behavior in TensorFlow 2.  The layer has dtype float32 because it's dtype defaults to floatx.\n",
      "\n",
      "If you intended to run this layer in float32, you can safely ignore this warning. If in doubt, this warning is likely only an issue if you are porting a TensorFlow 1.X model to TensorFlow 2.\n",
      "\n",
      "To change all layers to have dtype float64 by default, call `tf.keras.backend.set_floatx('float64')`. To change just this layer, pass dtype='float64' to the layer constructor. If you are the author of this layer, you can disable autocasting by passing autocast=False to the base Layer constructor.\n",
      "\n"
     ]
    }
   ],
   "source": [
    "layer_outputs=[feature.todense().astype(float)]\n",
    "for layer in model.layers:\n",
    "    layer_outputs.append( layer( layer_outputs[-1] ) )\n"
   ]
  },
  {
   "cell_type": "code",
   "execution_count": 53,
   "metadata": {},
   "outputs": [
    {
     "name": "stdout",
     "output_type": "stream",
     "text": [
      "layer 1 -- shape (500, 491)\n",
      "layer 2 -- shape (500, 491)\n",
      "layer 3 -- shape (500, 256)\n",
      "layer 4 -- shape (500, 16)\n",
      "layer 5 -- shape (500, 4)\n",
      "layer 6 -- shape (500, 2)\n",
      "layer 7 -- shape (500, 4)\n",
      "layer 8 -- shape (500, 16)\n",
      "layer 9 -- shape (500, 256)\n",
      "layer 10 -- shape (500, 491)\n"
     ]
    }
   ],
   "source": [
    "for i, ll in enumerate( layer_outputs ):\n",
    "    print( \"layer {} -- shape {}\".format(i+1, ll.shape) )"
   ]
  },
  {
   "cell_type": "code",
   "execution_count": 57,
   "metadata": {},
   "outputs": [
    {
     "data": {
      "text/plain": [
       "<tf.Tensor: id=2771, shape=(500, 2), dtype=float32, numpy=\n",
       "array([[ 0.00628065, -0.00896744],\n",
       "       [ 0.00628065, -0.00896744],\n",
       "       [ 0.00851696, -0.00354056],\n",
       "       [ 0.00164961, -0.01630626],\n",
       "       [-0.00116533, -0.02076709],\n",
       "       [ 0.00628065, -0.00896744],\n",
       "       [ 0.00419633, -0.01071405],\n",
       "       [ 0.00501441, -0.01097406],\n",
       "       [ 0.00628065, -0.00896744],\n",
       "       [ 0.00628065, -0.00896744],\n",
       "       [ 0.00437182, -0.01199236],\n",
       "       [ 0.00549238, -0.01021662],\n",
       "       [ 0.00963753,  0.00445831],\n",
       "       [ 0.00570249, -0.0083591 ],\n",
       "       [ 0.00594804, -0.00949454],\n",
       "       [-0.00058731, -0.01985111],\n",
       "       [ 0.00550198, -0.0102014 ],\n",
       "       [ 0.00046543, -0.01818283],\n",
       "       [ 0.01364609,  0.00890641],\n",
       "       [ 0.00645177, -0.00855218],\n",
       "       [ 0.00585181, -0.00964703],\n",
       "       [ 0.00628065, -0.00896744],\n",
       "       [ 0.00628065, -0.00896744],\n",
       "       [ 0.00839744,  0.00142766],\n",
       "       [ 0.00391639, -0.01271409],\n",
       "       [ 0.00628065, -0.00896744],\n",
       "       [ 0.00364558, -0.01314325],\n",
       "       [ 0.00628065, -0.00896744],\n",
       "       [ 0.00344982, -0.01345346],\n",
       "       [ 0.02514465,  0.03681018],\n",
       "       [ 0.00625128, -0.00901398],\n",
       "       [ 0.00946344,  0.00084724],\n",
       "       [ 0.00512795, -0.00425951],\n",
       "       [ 0.0227019 ,  0.03088231],\n",
       "       [ 0.00526387, -0.01057874],\n",
       "       [ 0.00461821, -0.00871213],\n",
       "       [ 0.00601626, -0.00938642],\n",
       "       [ 0.00731896, -0.00644776],\n",
       "       [ 0.00346352, -0.01343175],\n",
       "       [ 0.00410844, -0.00735692],\n",
       "       [ 0.00628065, -0.00896744],\n",
       "       [ 0.00703704, -0.0071319 ],\n",
       "       [-0.00198722, -0.01889896],\n",
       "       [ 0.00628065, -0.00896744],\n",
       "       [ 0.00628065, -0.00896744],\n",
       "       [ 0.00628065, -0.00896744],\n",
       "       [ 0.00455283, -0.01170552],\n",
       "       [ 0.00499311, -0.01100781],\n",
       "       [ 0.00656377, -0.00828039],\n",
       "       [-0.00099704, -0.02050041],\n",
       "       [ 0.00628065, -0.00896744],\n",
       "       [ 0.00818011, -0.00317859],\n",
       "       [ 0.00483067, -0.01126524],\n",
       "       [ 0.00559279, -0.00485981],\n",
       "       [ 0.00628065, -0.00896744],\n",
       "       [ 0.0127061 ,  0.00787477],\n",
       "       [ 0.01818447,  0.01991977],\n",
       "       [-0.00028501, -0.01937204],\n",
       "       [ 0.00655059, -0.00831237],\n",
       "       [-0.00319177, -0.0239784 ],\n",
       "       [ 0.00628065, -0.00896744],\n",
       "       [ 0.0023781 , -0.01034102],\n",
       "       [ 0.00952312,  0.01436551],\n",
       "       [ 0.01495943,  0.01209352],\n",
       "       [ 0.00660302, -0.00743739],\n",
       "       [-0.00028148, -0.01936645],\n",
       "       [ 0.01448237,  0.01244775],\n",
       "       [ 0.01508143,  0.01372649],\n",
       "       [ 0.01096856,  0.0051873 ],\n",
       "       [-0.00970953, -0.03404262],\n",
       "       [ 0.01365254,  0.00892205],\n",
       "       [ 0.00540025, -0.01036261],\n",
       "       [ 0.00271723, -0.0146144 ],\n",
       "       [ 0.0052784 , -0.0085055 ],\n",
       "       [ 0.00063209, -0.01607634],\n",
       "       [ 0.01543276,  0.01622801],\n",
       "       [ 0.00174089, -0.01616161],\n",
       "       [ 0.01060017,  0.00423517],\n",
       "       [-0.00088886, -0.02032897],\n",
       "       [ 0.00149778, -0.01654686],\n",
       "       [ 0.00462623, -0.0115892 ],\n",
       "       [ 0.00646706, -0.00373507],\n",
       "       [ 0.00628065, -0.00896744],\n",
       "       [ 0.00839721,  0.00345895],\n",
       "       [ 0.02006274,  0.02582114],\n",
       "       [ 0.00628065, -0.00896744],\n",
       "       [ 0.00628065, -0.00896744],\n",
       "       [ 0.00173102, -0.01617725],\n",
       "       [ 0.01448169,  0.01093417],\n",
       "       [ 0.00069444, -0.01781992],\n",
       "       [ 0.00628065, -0.00896744],\n",
       "       [ 0.0053316 , -0.00951563],\n",
       "       [ 0.00151671, -0.01317607],\n",
       "       [ 0.00032093, -0.01841181],\n",
       "       [ 0.00578519, -0.0097526 ],\n",
       "       [ 0.00628065, -0.00896744],\n",
       "       [-0.00010556, -0.01783294],\n",
       "       [ 0.00628065, -0.00896744],\n",
       "       [-0.00116345, -0.02064059],\n",
       "       [ 0.00628065, -0.00896744],\n",
       "       [ 0.00197995, -0.01578276],\n",
       "       [ 0.00450529, -0.01178086],\n",
       "       [ 0.00117176, -0.01706351],\n",
       "       [ 0.00956419, -0.00099922],\n",
       "       [ 0.00628065, -0.00896744],\n",
       "       [ 0.00541055, -0.00827161],\n",
       "       [ 0.00527967, -0.0105537 ],\n",
       "       [ 0.00566269, -0.00994673],\n",
       "       [ 0.00628065, -0.00896744],\n",
       "       [ 0.01321425,  0.00785845],\n",
       "       [-0.00057638, -0.01983379],\n",
       "       [ 0.0210562 ,  0.02688865],\n",
       "       [ 0.00851633, -0.00354209],\n",
       "       [ 0.00410185, -0.00956237],\n",
       "       [ 0.00654933, -0.00598581],\n",
       "       [-0.00071326, -0.0200507 ],\n",
       "       [ 0.00253021, -0.01491077],\n",
       "       [ 0.00053416, -0.01613113],\n",
       "       [ 0.01814629,  0.02167584],\n",
       "       [ 0.00684872, -0.00403972],\n",
       "       [ 0.00628065, -0.00896744],\n",
       "       [ 0.00299118, -0.01418027],\n",
       "       [ 0.00551731, -0.00924413],\n",
       "       [ 0.00963753,  0.00445831],\n",
       "       [ 0.0187145 ,  0.02426673],\n",
       "       [-0.00087679, -0.02030984],\n",
       "       [ 0.01220618,  0.0072799 ],\n",
       "       [ 0.01454566,  0.01108942],\n",
       "       [ 0.00628065, -0.00896744],\n",
       "       [ 0.00440051, -0.01161946],\n",
       "       [ 0.0166451 ,  0.02604541],\n",
       "       [ 0.01096856,  0.0036156 ],\n",
       "       [ 0.00628065, -0.00896744],\n",
       "       [ 0.00307229, -0.00881737],\n",
       "       [ 0.0003261 , -0.0175863 ],\n",
       "       [ 0.00656775, -0.00827074],\n",
       "       [ 0.00628065, -0.00896744],\n",
       "       [ 0.00803606, -0.00417   ],\n",
       "       [ 0.00628065, -0.00896744],\n",
       "       [ 0.00260279, -0.01479576],\n",
       "       [ 0.01073669,  0.00368755],\n",
       "       [ 0.00628065, -0.00896744],\n",
       "       [ 0.01018668,  0.00490669],\n",
       "       [ 0.00628065, -0.00896744],\n",
       "       [ 0.00658158, -0.00823718],\n",
       "       [ 0.00411214, -0.00954469],\n",
       "       [ 0.01655341,  0.01729283],\n",
       "       [ 0.00628065, -0.00896744],\n",
       "       [ 0.00628065, -0.00896744],\n",
       "       [ 0.00348689, -0.01339472],\n",
       "       [ 0.00966586, -0.0007525 ],\n",
       "       [ 0.00031724, -0.01539713],\n",
       "       [ 0.0041543 , -0.01027546],\n",
       "       [ 0.01300519,  0.01043807],\n",
       "       [ 0.00304496, -0.01409505],\n",
       "       [-0.0032607 , -0.02408762],\n",
       "       [ 0.00521687, -0.01065323],\n",
       "       [ 0.00748222, -0.00605159],\n",
       "       [ 0.01369994,  0.00903709],\n",
       "       [-0.00380603, -0.02353776],\n",
       "       [ 0.01009738,  0.00029468],\n",
       "       [ 0.00658612, -0.00793663],\n",
       "       [-0.00347404, -0.02346543],\n",
       "       [ 0.00344874, -0.01323526],\n",
       "       [ 0.00628065, -0.00896744],\n",
       "       [ 0.00628065, -0.00896744],\n",
       "       [ 0.00269307, -0.01465269],\n",
       "       [ 0.00457925, -0.01166366],\n",
       "       [ 0.00628065, -0.00896744],\n",
       "       [ 0.01193175,  0.01133791],\n",
       "       [ 0.01352885,  0.01020232],\n",
       "       [ 0.00488778, -0.01117473],\n",
       "       [ 0.00646395, -0.00336231],\n",
       "       [-0.00060425, -0.01987794],\n",
       "       [ 0.00138584, -0.01672425],\n",
       "       [-0.00046209, -0.01965267],\n",
       "       [-0.00085383, -0.02027346],\n",
       "       [ 0.00553392, -0.01015079],\n",
       "       [ 0.00628065, -0.00896744],\n",
       "       [ 0.0011585 , -0.01708452],\n",
       "       [ 0.01112139,  0.00415667],\n",
       "       [ 0.00628065, -0.00896744],\n",
       "       [ 0.00225528, -0.01170969],\n",
       "       [ 0.00933456,  0.00194232],\n",
       "       [ 0.0140056 ,  0.01130612],\n",
       "       [ 0.01285846,  0.00874106],\n",
       "       [ 0.00628065, -0.00896744],\n",
       "       [ 0.00293856, -0.01426365],\n",
       "       [ 0.00772904, -0.00545262],\n",
       "       [ 0.00372093, -0.01302384],\n",
       "       [ 0.00628065, -0.00896744],\n",
       "       [ 0.00326832, -0.0136566 ],\n",
       "       [ 0.00017222, -0.01864748],\n",
       "       [ 0.00387241, -0.01188838],\n",
       "       [-0.00069292, -0.02001847],\n",
       "       [ 0.0090216 , -0.0012913 ],\n",
       "       [ 0.00462634, -0.01045635],\n",
       "       [ 0.00628065, -0.00896744],\n",
       "       [-0.0011124 , -0.02068321],\n",
       "       [ 0.00824825, -0.00419263],\n",
       "       [ 0.01498361,  0.0121522 ],\n",
       "       [ 0.01554882,  0.01731176],\n",
       "       [ 0.01513366,  0.01251632],\n",
       "       [ 0.00751838, -0.00596382],\n",
       "       [ 0.00543661, -0.00307662],\n",
       "       [ 0.00202814, -0.00449516],\n",
       "       [ 0.00628065, -0.00896744],\n",
       "       [ 0.00628065, -0.00896744],\n",
       "       [ 0.00628065, -0.00896744],\n",
       "       [ 0.00864232, -0.00323634],\n",
       "       [-0.00029061, -0.01843794],\n",
       "       [ 0.00614431, -0.0091835 ],\n",
       "       [ 0.00963753,  0.00445831],\n",
       "       [ 0.00793065, -0.00496337],\n",
       "       [ 0.00334688, -0.00994005],\n",
       "       [-0.00543636, -0.02753539],\n",
       "       [ 0.01032547,  0.00084818],\n",
       "       [ 0.01560253,  0.0204009 ],\n",
       "       [ 0.00832944, -0.00014711],\n",
       "       [ 0.00469668, -0.01147756],\n",
       "       [ 0.01456243,  0.01353738],\n",
       "       [ 0.00269905, -0.01464321],\n",
       "       [ 0.00963753,  0.00445831],\n",
       "       [ 0.01345074,  0.00843234],\n",
       "       [ 0.00484888, -0.00713463],\n",
       "       [ 0.00628065, -0.00896744],\n",
       "       [ 0.00453682, -0.00963453],\n",
       "       [ 0.00628065, -0.00896744],\n",
       "       [ 0.00029937, -0.01844599],\n",
       "       [-0.00430728, -0.02574614],\n",
       "       [ 0.01537596,  0.02069733],\n",
       "       [ 0.00628065, -0.00896744],\n",
       "       [ 0.01031169,  0.00081474],\n",
       "       [ 0.00628065, -0.00896744],\n",
       "       [ 0.00640278, -0.00865948],\n",
       "       [ 0.0009273 , -0.01245984],\n",
       "       [ 0.00258804, -0.01481913],\n",
       "       [ 0.00628065, -0.00896744],\n",
       "       [ 0.004089  , -0.01244055],\n",
       "       [ 0.00427483, -0.01214607],\n",
       "       [ 0.00264902, -0.01472249],\n",
       "       [ 0.00594842, -0.00740895],\n",
       "       [-0.00101806, -0.02053371],\n",
       "       [ 0.00963753,  0.00445831],\n",
       "       [ 0.00342479, -0.00987786],\n",
       "       [ 0.00334009, -0.00910407],\n",
       "       [-0.00210392, -0.02225447],\n",
       "       [ 0.00063061, -0.01558941],\n",
       "       [ 0.00801903, -0.00474888],\n",
       "       [ 0.00323472, -0.01379433],\n",
       "       [ 0.00582615, -0.0096877 ],\n",
       "       [-0.00042197, -0.01958909],\n",
       "       [ 0.0097674 ,  0.00094133],\n",
       "       [ 0.00654353, -0.00676568],\n",
       "       [ 0.00628065, -0.00896744],\n",
       "       [ 0.00628065, -0.00896744],\n",
       "       [ 0.0138121 ,  0.0135525 ],\n",
       "       [ 0.00233612, -0.01521835],\n",
       "       [ 0.00425982, -0.01216985],\n",
       "       [-0.0007602 , -0.02012509],\n",
       "       [ 0.00436114, -0.0120093 ],\n",
       "       [ 0.01533348,  0.01786732],\n",
       "       [ 0.01532328,  0.01431656],\n",
       "       [ 0.00408862, -0.00673656],\n",
       "       [ 0.00628065, -0.00896744],\n",
       "       [ 0.00628065, -0.00896744],\n",
       "       [ 0.00094205, -0.01742752],\n",
       "       [ 0.00059517, -0.01672739],\n",
       "       [ 0.00407881, -0.01238075],\n",
       "       [ 0.00592791, -0.00222262],\n",
       "       [ 0.00132016, -0.01682834],\n",
       "       [-0.00478111, -0.0247989 ],\n",
       "       [ 0.00628065, -0.00896744],\n",
       "       [-0.00128631, -0.02095881],\n",
       "       [ 0.00806167, -0.00347611],\n",
       "       [ 0.00384856, -0.01282158],\n",
       "       [ 0.01688685,  0.01677081],\n",
       "       [ 0.0039465 , -0.01266638],\n",
       "       [ 0.00291906, -0.0095024 ],\n",
       "       [ 0.00628065, -0.00896744],\n",
       "       [ 0.00153117, -0.01559536],\n",
       "       [ 0.00532457, -0.00629641],\n",
       "       [ 0.00451353, -0.00819866],\n",
       "       [ 0.00786272, -0.00512821],\n",
       "       [ 0.00628065, -0.00896744],\n",
       "       [ 0.00540009, -0.01021984],\n",
       "       [ 0.01574684,  0.01400433],\n",
       "       [ 0.00510724, -0.01082695],\n",
       "       [ 0.0036625 , -0.01119236],\n",
       "       [ 0.00589793, -0.00957394],\n",
       "       [ 0.00563695, -0.00998751],\n",
       "       [ 0.00628065, -0.00896744],\n",
       "       [ 0.00219175, -0.01023463],\n",
       "       [-0.01068761, -0.03585705],\n",
       "       [-0.00854182, -0.03225899],\n",
       "       [ 0.01051821,  0.00545152],\n",
       "       [ 0.0038435 , -0.0128296 ],\n",
       "       [ 0.00588413, -0.00959581],\n",
       "       [ 0.00308304, -0.0140347 ],\n",
       "       [ 0.00306269, -0.01406696],\n",
       "       [ 0.00628065, -0.00896744],\n",
       "       [ 0.00483037, -0.01126571],\n",
       "       [ 0.00628065, -0.00896744],\n",
       "       [ 0.00231504, -0.01350789],\n",
       "       [ 0.00761652, -0.00048165],\n",
       "       [ 0.00299232, -0.00946369],\n",
       "       [ 0.004758  , -0.01138039],\n",
       "       [-0.0048605 , -0.02662283],\n",
       "       [ 0.00628065, -0.00896744],\n",
       "       [ 0.00509742, -0.01032785],\n",
       "       [ 0.00628065, -0.00896744],\n",
       "       [ 0.0095543 , -0.00102322],\n",
       "       [ 0.00082655, -0.01039056],\n",
       "       [ 0.00628065, -0.00896744],\n",
       "       [ 0.00628065, -0.00896744],\n",
       "       [ 0.00811536, -0.00451513],\n",
       "       [ 0.00467961, -0.01150461],\n",
       "       [-0.00260293, -0.02304526],\n",
       "       [ 0.00821277,  0.00283827],\n",
       "       [ 0.0076858 , -0.00331498],\n",
       "       [ 0.00424159, -0.01219875],\n",
       "       [ 0.01392855,  0.00959186],\n",
       "       [ 0.0078442 , -0.00299148],\n",
       "       [-0.00542792, -0.02752202],\n",
       "       [ 0.00628065, -0.00896744],\n",
       "       [ 0.00628065, -0.00896744],\n",
       "       [ 0.00518356, -0.00939631],\n",
       "       [ 0.00429765, -0.00803528],\n",
       "       [ 0.00628065, -0.00896744],\n",
       "       [ 0.0127277 ,  0.00667773],\n",
       "       [ 0.00179912, -0.01606933],\n",
       "       [-0.00258572, -0.02301799],\n",
       "       [ 0.00628065, -0.00896744],\n",
       "       [ 0.01444524,  0.01084572],\n",
       "       [ 0.01406736,  0.0099287 ],\n",
       "       [ 0.00378841, -0.0129169 ],\n",
       "       [ 0.01232411,  0.00833715],\n",
       "       [ 0.01073229,  0.00929031],\n",
       "       [ 0.00628065, -0.00896744],\n",
       "       [-0.00828974, -0.0293189 ],\n",
       "       [ 0.00628065, -0.00896744],\n",
       "       [ 0.00886688,  0.00138785],\n",
       "       [ 0.00144345, -0.01663295],\n",
       "       [ 0.002058  , -0.01565909],\n",
       "       [ 0.00628065, -0.00896744],\n",
       "       [ 0.00325104, -0.01376847],\n",
       "       [-0.00475578, -0.02645687],\n",
       "       [ 0.00406693, -0.01247554],\n",
       "       [ 0.00899462, -0.00238141],\n",
       "       [ 0.00628065, -0.00896744],\n",
       "       [ 0.00628065, -0.00896744],\n",
       "       [ 0.00841124,  0.00030474],\n",
       "       [ 0.00256037, -0.00580203],\n",
       "       [ 0.00858078, -0.00338567],\n",
       "       [ 0.0056664 , -0.00994084],\n",
       "       [ 0.0058805 , -0.00960157],\n",
       "       [ 0.00437411, -0.00871987],\n",
       "       [ 0.00537113, -0.01040876],\n",
       "       [ 0.00628065, -0.00896744],\n",
       "       [ 0.00628065, -0.00896744],\n",
       "       [ 0.00628065, -0.00896744],\n",
       "       [ 0.00628065, -0.00896744],\n",
       "       [ 0.00325763, -0.01375802],\n",
       "       [ 0.01259059,  0.00817026],\n",
       "       [-0.00108394, -0.02063811],\n",
       "       [ 0.00512084, -0.00456453],\n",
       "       [ 0.00628065, -0.00896744],\n",
       "       [ 0.01035137,  0.00176635],\n",
       "       [ 0.00628065, -0.00896744],\n",
       "       [ 0.01055942,  0.00878987],\n",
       "       [ 0.00628065, -0.00896744],\n",
       "       [ 0.00107594, -0.017202  ],\n",
       "       [ 0.00628065, -0.00896744],\n",
       "       [ 0.00963753,  0.00445831],\n",
       "       [ 0.00632416, -0.00581509],\n",
       "       [ 0.00112143, -0.01714327],\n",
       "       [ 0.00425218, -0.01218196],\n",
       "       [ 0.0045541 , -0.01170352],\n",
       "       [-0.0011721 , -0.02067338],\n",
       "       [ 0.00603876, -0.00935077],\n",
       "       [ 0.00628065, -0.00896744],\n",
       "       [ 0.00628065, -0.00896744],\n",
       "       [ 0.00628065, -0.00896744],\n",
       "       [ 0.01051366,  0.00291904],\n",
       "       [ 0.00716119, -0.0033144 ],\n",
       "       [ 0.00628065, -0.00896744],\n",
       "       [ 0.00847573, -0.00364062],\n",
       "       [ 0.00963753,  0.00445831],\n",
       "       [ 0.00722226, -0.004928  ],\n",
       "       [ 0.00130382, -0.01685423],\n",
       "       [ 0.02096163,  0.03050856],\n",
       "       [ 0.00628065, -0.00896744],\n",
       "       [ 0.00628065, -0.00896744],\n",
       "       [ 0.00628065, -0.00896744],\n",
       "       [ 0.00859955, -0.00257977],\n",
       "       [ 0.00628065, -0.00896744],\n",
       "       [ 0.00628065, -0.00896744],\n",
       "       [ 0.01622292,  0.01657648],\n",
       "       [-0.00121801, -0.02085057],\n",
       "       [ 0.00628065, -0.00896744],\n",
       "       [ 0.00238783, -0.00667153],\n",
       "       [ 0.00628065, -0.00896744],\n",
       "       [ 0.01104262,  0.00258851],\n",
       "       [ 0.00291191, -0.0143059 ],\n",
       "       [ 0.00079418, -0.01766186],\n",
       "       [ 0.00628065, -0.00896744],\n",
       "       [ 0.00889068,  0.00276917],\n",
       "       [ 0.0092635 ,  0.00061336],\n",
       "       [ 0.0043803 , -0.01197894],\n",
       "       [ 0.00523463, -0.01062507],\n",
       "       [ 0.00515594, -0.01074977],\n",
       "       [ 0.00651034, -0.00432689],\n",
       "       [ 0.01591926,  0.01442276],\n",
       "       [ 0.01137319,  0.01020618],\n",
       "       [-0.00406233, -0.02491453],\n",
       "       [-0.00050632, -0.01972276],\n",
       "       [-0.00464341, -0.02431601],\n",
       "       [ 0.001832  , -0.01601723],\n",
       "       [ 0.0059302 , -0.00952281],\n",
       "       [ 0.00022151, -0.01595046],\n",
       "       [ 0.00825954, -0.00169284],\n",
       "       [ 0.00530387, -0.01020698],\n",
       "       [ 0.00495957, -0.01106096],\n",
       "       [ 0.01011913,  0.00034745],\n",
       "       [-0.00045429, -0.0196403 ],\n",
       "       [ 0.01004565,  0.00016916],\n",
       "       [ 0.00477526, -0.01135304],\n",
       "       [ 0.01803902,  0.0195668 ],\n",
       "       [ 0.00653279, -0.00766016],\n",
       "       [ 0.00628065, -0.00896744],\n",
       "       [ 0.00628065, -0.00896744],\n",
       "       [ 0.00628065, -0.00896744],\n",
       "       [ 0.0094991 , -0.00115717],\n",
       "       [ 0.01243971,  0.00597885],\n",
       "       [ 0.00628065, -0.00896744],\n",
       "       [ 0.00037632, -0.01754586],\n",
       "       [ 0.00963753,  0.00445831],\n",
       "       [ 0.0031686 , -0.01389911],\n",
       "       [ 0.00628065, -0.00896744],\n",
       "       [-0.00647367, -0.02917923],\n",
       "       [ 0.00741467, -0.00164255],\n",
       "       [ 0.01042589,  0.00313831],\n",
       "       [ 0.0108385 ,  0.00209318],\n",
       "       [ 0.01036841,  0.004075  ],\n",
       "       [ 0.00963753,  0.00445831],\n",
       "       [ 0.00628065, -0.00896744],\n",
       "       [ 0.00244678, -0.01504298],\n",
       "       [ 0.00411326, -0.01240212],\n",
       "       [ 0.00628065, -0.00896744],\n",
       "       [ 0.00513804, -0.00686784],\n",
       "       [ 0.00628065, -0.00896744],\n",
       "       [ 0.00628065, -0.00896744],\n",
       "       [ 0.0086028 , -0.00313854],\n",
       "       [ 0.00628065, -0.00896744],\n",
       "       [ 0.00628065, -0.00896744],\n",
       "       [-0.002927  , -0.02355882],\n",
       "       [ 0.00510786, -0.00704374],\n",
       "       [-0.0011948 , -0.02042735],\n",
       "       [ 0.0087653 , -0.0029379 ],\n",
       "       [ 0.0021711 , -0.01547985],\n",
       "       [-0.00363816, -0.02468578],\n",
       "       [ 0.00176718, -0.01545469],\n",
       "       [ 0.00654475, -0.00160545],\n",
       "       [ 0.00587646, -0.00960796],\n",
       "       [ 0.00458084, -0.01166113],\n",
       "       [ 0.01048668,  0.00396103],\n",
       "       [ 0.0091465 ,  0.00720708],\n",
       "       [-0.00357669, -0.02444066],\n",
       "       [ 0.00628065, -0.00896744],\n",
       "       [ 0.00120858, -0.00656587],\n",
       "       [ 0.00514367, -0.01076921],\n",
       "       [ 0.00628065, -0.00896744],\n",
       "       [ 0.00350238, -0.01337018],\n",
       "       [ 0.00404085, -0.01057042],\n",
       "       [-0.00259827, -0.02303787],\n",
       "       [ 0.00520081, -0.01067866],\n",
       "       [ 0.00963753,  0.00445831],\n",
       "       [ 0.00478585, -0.00631733],\n",
       "       [ 0.00845664, -0.00368694],\n",
       "       [ 0.0072209 , -0.003611  ],\n",
       "       [ 0.00737216, -0.00586807],\n",
       "       [ 0.00450499, -0.00973978],\n",
       "       [ 0.01145103,  0.00498437],\n",
       "       [ 0.00740373, -0.001991  ],\n",
       "       [ 0.00939581, -0.00140784],\n",
       "       [ 0.00067671, -0.01784801],\n",
       "       [ 0.00266987, -0.01468946],\n",
       "       [ 0.01030458,  0.00204887],\n",
       "       [ 0.00628065, -0.00896744],\n",
       "       [ 0.00855704, -0.0028563 ],\n",
       "       [ 0.00524873, -0.01060273],\n",
       "       [ 0.00612959, -0.00920682],\n",
       "       [ 0.00818025, -0.00096563],\n",
       "       [ 0.0008598 , -0.01755787],\n",
       "       [ 0.00628065, -0.00896744],\n",
       "       [ 0.00517169, -0.01072482],\n",
       "       [ 0.00628065, -0.00896744],\n",
       "       [ 0.00813145, -0.00447608],\n",
       "       [ 0.00140032, -0.0083385 ],\n",
       "       [-0.00106368, -0.02060601]], dtype=float32)>"
      ]
     },
     "execution_count": 57,
     "metadata": {},
     "output_type": "execute_result"
    }
   ],
   "source": [
    "layer_outputs[5]"
   ]
  },
  {
   "cell_type": "code",
   "execution_count": null,
   "metadata": {},
   "outputs": [],
   "source": []
  }
 ],
 "metadata": {
  "kernelspec": {
   "display_name": "Python 3",
   "language": "python",
   "name": "python3"
  },
  "language_info": {
   "codemirror_mode": {
    "name": "ipython",
    "version": 3
   },
   "file_extension": ".py",
   "mimetype": "text/x-python",
   "name": "python",
   "nbconvert_exporter": "python",
   "pygments_lexer": "ipython3",
   "version": "3.7.5"
  },
  "varInspector": {
   "cols": {
    "lenName": 16,
    "lenType": 16,
    "lenVar": 40
   },
   "kernels_config": {
    "python": {
     "delete_cmd_postfix": "",
     "delete_cmd_prefix": "del ",
     "library": "var_list.py",
     "varRefreshCmd": "print(var_dic_list())"
    },
    "r": {
     "delete_cmd_postfix": ") ",
     "delete_cmd_prefix": "rm(",
     "library": "var_list.r",
     "varRefreshCmd": "cat(var_dic_list()) "
    }
   },
   "types_to_exclude": [
    "module",
    "function",
    "builtin_function_or_method",
    "instance",
    "_Feature"
   ],
   "window_display": false
  }
 },
 "nbformat": 4,
 "nbformat_minor": 2
}
